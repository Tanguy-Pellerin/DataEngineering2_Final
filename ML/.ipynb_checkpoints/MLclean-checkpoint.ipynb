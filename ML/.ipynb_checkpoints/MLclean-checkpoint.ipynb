{
 "cells": [
  {
   "cell_type": "code",
   "execution_count": 1,
   "metadata": {
    "ExecuteTime": {
     "end_time": "2020-12-13T11:26:11.236112Z",
     "start_time": "2020-12-13T11:26:08.165853Z"
    }
   },
   "outputs": [],
   "source": [
    "import pandas as pd\n",
    "import numpy as np\n",
    "import preprocessor as p\n",
    "from nltk.tokenize import word_tokenize\n",
    "from sklearn.metrics.pairwise import euclidean_distances"
   ]
  },
  {
   "cell_type": "code",
   "execution_count": 17,
   "metadata": {
    "ExecuteTime": {
     "end_time": "2020-12-13T12:19:50.995191Z",
     "start_time": "2020-12-13T12:19:50.986548Z"
    }
   },
   "outputs": [],
   "source": [
    "import pickle\n",
    "import bz2"
   ]
  },
  {
   "cell_type": "code",
   "execution_count": 3,
   "metadata": {
    "ExecuteTime": {
     "end_time": "2020-12-13T11:26:11.551879Z",
     "start_time": "2020-12-13T11:26:11.273851Z"
    }
   },
   "outputs": [],
   "source": [
    "df = pd.read_csv('tweet_vectorized.csv')\n",
    "vectorized_sentence = np.load('vectorized_sentence.npy', allow_pickle=True)\n",
    "df['vectorized_sentence'] = vectorized_sentence"
   ]
  },
  {
   "cell_type": "code",
   "execution_count": 4,
   "metadata": {
    "ExecuteTime": {
     "end_time": "2020-12-13T11:26:26.744832Z",
     "start_time": "2020-12-13T11:26:11.557216Z"
    }
   },
   "outputs": [],
   "source": [
    "fastTextModel = pickle.load(open('fastTextModel.p', 'rb'))"
   ]
  },
  {
   "cell_type": "code",
   "execution_count": 5,
   "metadata": {
    "ExecuteTime": {
     "end_time": "2020-12-13T11:26:26.769694Z",
     "start_time": "2020-12-13T11:26:26.752537Z"
    }
   },
   "outputs": [],
   "source": [
    "def get_fast_text_vector(sentence):    \n",
    "        return fastTextModel[sentence]"
   ]
  },
  {
   "cell_type": "code",
   "execution_count": 11,
   "metadata": {
    "ExecuteTime": {
     "end_time": "2020-12-13T11:27:31.567956Z",
     "start_time": "2020-12-13T11:27:31.559242Z"
    }
   },
   "outputs": [],
   "source": [
    "def get_vectorized_sentence(sentence):\n",
    "    sentence_clean = p.clean(sentence)\n",
    "    sentence_vector = []\n",
    "    for word in word_tokenize(sentence_clean):\n",
    "        sentence_vector.append(get_fast_text_vector(word))\n",
    "    return np.mean(sentence_vector, axis=0)"
   ]
  },
  {
   "cell_type": "code",
   "execution_count": 14,
   "metadata": {
    "ExecuteTime": {
     "end_time": "2020-12-13T11:28:40.454466Z",
     "start_time": "2020-12-13T11:28:40.445449Z"
    }
   },
   "outputs": [],
   "source": [
    "def least_distance(predicted, context_sentence_vector):\n",
    "    total_distance = []\n",
    "    for index, rows in context_sentence_vector.iterrows():\n",
    "        current_distance = euclidean_distances([predicted], [rows['vectorized_sentence']])\n",
    "        total_distance.append({\n",
    "            'id': rows['id'],\n",
    "            'text': rows['text'],\n",
    "            'score': current_distance\n",
    "        })\n",
    "    total_distance.sort(key=lambda x: x.get('score'))\n",
    "    return total_distance[:20]"
   ]
  },
  {
   "cell_type": "code",
   "execution_count": 15,
   "metadata": {
    "ExecuteTime": {
     "end_time": "2020-12-13T11:28:51.559875Z",
     "start_time": "2020-12-13T11:28:40.692015Z"
    }
   },
   "outputs": [
    {
     "name": "stderr",
     "output_type": "stream",
     "text": [
      "/Users/tanguypellerin/anaconda3/lib/python3.7/site-packages/ipykernel_launcher.py:2: DeprecationWarning: Call to deprecated `__getitem__` (Method will be removed in 4.0.0, use self.wv.__getitem__() instead).\n",
      "  \n"
     ]
    },
    {
     "data": {
      "text/plain": [
       "[{'id': 784609194234306560,\n",
       "  'text': 'Here is my statement.pic.twitter.com/WAZiGoQqMQ',\n",
       "  'score': array([[0.]], dtype=float32)},\n",
       " {'id': 302129659305418752,\n",
       "  'text': 'Really enjoyed my interview with @marklevinshow. He is terrific!',\n",
       "  'score': array([[0.01194507]], dtype=float32)},\n",
       " {'id': 297421981047988224,\n",
       "  'text': 'As promised, my @SuperBowl pick is the San Francisco @49ers.',\n",
       "  'score': array([[0.01195108]], dtype=float32)},\n",
       " {'id': 291218000948908032,\n",
       "  'text': 'Lance Armstrong is having a breakdown. What is he doing—his life is now officially over!',\n",
       "  'score': array([[0.01199631]], dtype=float32)},\n",
       " {'id': 533347605607350272,\n",
       "  'text': \"“Success isn't permanent and failure isn't fatal.” – Mike Ditka\",\n",
       "  'score': array([[0.01214167]], dtype=float32)},\n",
       " {'id': 452143485286899712,\n",
       "  'text': '.@Neilyoung- one of my favorite musicians- in my office. http://instagram.com/p/mYIm5OGhfw/\\xa0',\n",
       "  'score': array([[0.01219202]], dtype=float32)},\n",
       " {'id': 312245901156573184,\n",
       "  'text': \"The DC press corps is obsessed with my @CPACnews speech which is scheduled  tomorrow 8:45AM in the Potomac Ballroom. Can't blame them.\",\n",
       "  'score': array([[0.01224212]], dtype=float32)},\n",
       " {'id': 278969493068320768,\n",
       "  'text': '“All the things I love is what my business is all about.” - @MarthaStewart',\n",
       "  'score': array([[0.0122758]], dtype=float32)},\n",
       " {'id': 278969493068320768,\n",
       "  'text': '“All the things I love is what my business is all about.” - @MarthaStewart',\n",
       "  'score': array([[0.0122758]], dtype=float32)},\n",
       " {'id': 472407654741323776,\n",
       "  'text': 'Our country is on the precipice. Washington is broken. Where is the leadership?',\n",
       "  'score': array([[0.01231152]], dtype=float32)},\n",
       " {'id': 387686602438234112,\n",
       "  'text': 'In my opinion, one of the worst utility companies in the country is Florida Power and Light.',\n",
       "  'score': array([[0.01234197]], dtype=float32)},\n",
       " {'id': 655855161160634368,\n",
       "  'text': '\"@Kellmat2: @realDonaldTrump @RD_2008 @JebBush Jeb is no conservative in my book. Common core is a disaster.\"',\n",
       "  'score': array([[0.01237254]], dtype=float32)},\n",
       " {'id': 141628027456065536,\n",
       "  'text': '#trumpvlog @BarackObama is very inconsiderate...http://youtu.be/NFMDNg9VGIQ\\xa0',\n",
       "  'score': array([[0.01237483]], dtype=float32)},\n",
       " {'id': 709819253977915392,\n",
       "  'text': 'A lot of complaints from people saying my name is not on the ballot in various places in Florida? Hope this is false.',\n",
       "  'score': array([[0.01244226]], dtype=float32)},\n",
       " {'id': 355729418687217664,\n",
       "  'text': 'A woman is suing one of my businesses despite the fact that she loved her classes. Our legal system is a mess. Watch- http://on.fb.me/13Uu5VN\\xa0',\n",
       "  'score': array([[0.01246254]], dtype=float32)},\n",
       " {'id': 265827946240032768,\n",
       "  'text': 'Why is Obama playing basketball today? That is why our country is in trouble!',\n",
       "  'score': array([[0.01248948]], dtype=float32)},\n",
       " {'id': 265827946240032768,\n",
       "  'text': 'Why is Obama playing basketball today? That is why our country is in trouble!',\n",
       "  'score': array([[0.01248948]], dtype=float32)},\n",
       " {'id': 166641357291667456,\n",
       "  'text': 'As China is building an air and naval force, @BarackObama is cutting ours. http://bit.ly/zyzUSp\\xa0   He is weakening our national security.',\n",
       "  'score': array([[0.01250767]], dtype=float32)},\n",
       " {'id': 166641357291667456,\n",
       "  'text': 'As China is building an air and naval force, @BarackObama is cutting ours. http://bit.ly/zyzUSp\\xa0   He is weakening our national security.',\n",
       "  'score': array([[0.01250767]], dtype=float32)},\n",
       " {'id': 575040053304492032,\n",
       "  'text': 'Being good in business is the most fascinating kind of art. Making money is art & working is art & good business is the best art\\nAndy Warhol',\n",
       "  'score': array([[0.01251721]], dtype=float32)}]"
      ]
     },
     "execution_count": 15,
     "metadata": {},
     "output_type": "execute_result"
    }
   ],
   "source": [
    "least_distance(get_vectorized_sentence(\"Here is my statement.pic.twitter.com/WAZiGoQqMQ\"), df)"
   ]
  },
  {
   "cell_type": "code",
   "execution_count": 22,
   "metadata": {
    "ExecuteTime": {
     "end_time": "2020-12-13T12:20:21.350230Z",
     "start_time": "2020-12-13T12:20:21.343986Z"
    }
   },
   "outputs": [],
   "source": [
    "def decompress_pickle(file):\n",
    "    data = bz2.BZ2File(file, 'rb')\n",
    "    data = pickle.load(data)\n",
    "    return data"
   ]
  },
  {
   "cell_type": "code",
   "execution_count": 23,
   "metadata": {
    "ExecuteTime": {
     "end_time": "2020-12-13T12:23:10.213754Z",
     "start_time": "2020-12-13T12:20:21.697006Z"
    }
   },
   "outputs": [],
   "source": [
    "data = decompress_pickle('test.pbz2') "
   ]
  },
  {
   "cell_type": "code",
   "execution_count": null,
   "metadata": {},
   "outputs": [],
   "source": []
  }
 ],
 "metadata": {
  "kernelspec": {
   "display_name": "Python 3",
   "language": "python",
   "name": "python3"
  },
  "language_info": {
   "codemirror_mode": {
    "name": "ipython",
    "version": 3
   },
   "file_extension": ".py",
   "mimetype": "text/x-python",
   "name": "python",
   "nbconvert_exporter": "python",
   "pygments_lexer": "ipython3",
   "version": "3.7.9"
  }
 },
 "nbformat": 4,
 "nbformat_minor": 4
}

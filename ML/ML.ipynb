{
 "cells": [
  {
   "cell_type": "markdown",
   "metadata": {},
   "source": [
    "### Import"
   ]
  },
  {
   "cell_type": "code",
   "execution_count": 1,
   "metadata": {
    "ExecuteTime": {
     "end_time": "2020-12-13T10:58:24.392028Z",
     "start_time": "2020-12-13T10:58:23.313063Z"
    }
   },
   "outputs": [],
   "source": [
    "import pandas as pd\n",
    "import numpy as np"
   ]
  },
  {
   "cell_type": "code",
   "execution_count": 2,
   "metadata": {
    "ExecuteTime": {
     "end_time": "2020-12-13T10:58:24.473239Z",
     "start_time": "2020-12-13T10:58:24.395037Z"
    }
   },
   "outputs": [],
   "source": [
    "df = pd.read_csv(\"tweets.csv\", usecols=['text', 'id'])"
   ]
  },
  {
   "cell_type": "code",
   "execution_count": 3,
   "metadata": {
    "ExecuteTime": {
     "end_time": "2020-12-13T10:58:24.642911Z",
     "start_time": "2020-12-13T10:58:24.603158Z"
    }
   },
   "outputs": [
    {
     "data": {
      "text/html": [
       "<div>\n",
       "<style scoped>\n",
       "    .dataframe tbody tr th:only-of-type {\n",
       "        vertical-align: middle;\n",
       "    }\n",
       "\n",
       "    .dataframe tbody tr th {\n",
       "        vertical-align: top;\n",
       "    }\n",
       "\n",
       "    .dataframe thead th {\n",
       "        text-align: right;\n",
       "    }\n",
       "</style>\n",
       "<table border=\"1\" class=\"dataframe\">\n",
       "  <thead>\n",
       "    <tr style=\"text-align: right;\">\n",
       "      <th></th>\n",
       "      <th>id</th>\n",
       "      <th>text</th>\n",
       "    </tr>\n",
       "  </thead>\n",
       "  <tbody>\n",
       "    <tr>\n",
       "      <th>0</th>\n",
       "      <td>784609194234306560</td>\n",
       "      <td>Here is my statement.pic.twitter.com/WAZiGoQqMQ</td>\n",
       "    </tr>\n",
       "    <tr>\n",
       "      <th>1</th>\n",
       "      <td>785608815962099712</td>\n",
       "      <td>Is this really America? Terrible!pic.twitter.c...</td>\n",
       "    </tr>\n",
       "    <tr>\n",
       "      <th>2</th>\n",
       "      <td>784840992734064640</td>\n",
       "      <td>The media and establishment want me out of the...</td>\n",
       "    </tr>\n",
       "    <tr>\n",
       "      <th>3</th>\n",
       "      <td>784767399442653184</td>\n",
       "      <td>Certainly has been an interesting 24 hours!</td>\n",
       "    </tr>\n",
       "    <tr>\n",
       "      <th>4</th>\n",
       "      <td>785561269571026944</td>\n",
       "      <td>Debate polls look great - thank you!\\n#MAGA #A...</td>\n",
       "    </tr>\n",
       "  </tbody>\n",
       "</table>\n",
       "</div>"
      ],
      "text/plain": [
       "                   id                                               text\n",
       "0  784609194234306560    Here is my statement.pic.twitter.com/WAZiGoQqMQ\n",
       "1  785608815962099712  Is this really America? Terrible!pic.twitter.c...\n",
       "2  784840992734064640  The media and establishment want me out of the...\n",
       "3  784767399442653184        Certainly has been an interesting 24 hours!\n",
       "4  785561269571026944  Debate polls look great - thank you!\\n#MAGA #A..."
      ]
     },
     "execution_count": 3,
     "metadata": {},
     "output_type": "execute_result"
    }
   ],
   "source": [
    "df.head()"
   ]
  },
  {
   "cell_type": "markdown",
   "metadata": {},
   "source": [
    "### Create model"
   ]
  },
  {
   "cell_type": "code",
   "execution_count": 4,
   "metadata": {
    "ExecuteTime": {
     "end_time": "2020-12-13T10:58:27.989882Z",
     "start_time": "2020-12-13T10:58:25.665800Z"
    }
   },
   "outputs": [],
   "source": [
    "from gensim.models import FastText\n",
    "import gensim\n",
    "import preprocessor as p"
   ]
  },
  {
   "cell_type": "code",
   "execution_count": 5,
   "metadata": {
    "ExecuteTime": {
     "end_time": "2020-12-13T10:58:34.066191Z",
     "start_time": "2020-12-13T10:58:34.044294Z"
    }
   },
   "outputs": [],
   "source": [
    "texts = []\n",
    "for text in df.text.unique():\n",
    "    texts.append(text)\n",
    "\n",
    "df_text = pd.DataFrame(texts)"
   ]
  },
  {
   "cell_type": "code",
   "execution_count": 6,
   "metadata": {
    "ExecuteTime": {
     "end_time": "2020-12-13T10:59:09.319961Z",
     "start_time": "2020-12-13T10:58:34.366005Z"
    }
   },
   "outputs": [],
   "source": [
    "fastTextModel = FastText(df_text[0].to_list(),\n",
    "                         size = 150,\n",
    "                         workers=-1)"
   ]
  },
  {
   "cell_type": "markdown",
   "metadata": {},
   "source": [
    "### Preprocess"
   ]
  },
  {
   "cell_type": "code",
   "execution_count": 7,
   "metadata": {
    "ExecuteTime": {
     "end_time": "2020-12-13T10:59:10.519252Z",
     "start_time": "2020-12-13T10:59:09.327260Z"
    }
   },
   "outputs": [],
   "source": [
    "from nltk.tokenize import word_tokenize"
   ]
  },
  {
   "cell_type": "code",
   "execution_count": 8,
   "metadata": {
    "ExecuteTime": {
     "end_time": "2020-12-13T10:59:10.528249Z",
     "start_time": "2020-12-13T10:59:10.523752Z"
    }
   },
   "outputs": [],
   "source": [
    "def get_fast_text_vector(sentence):    \n",
    "        return fastTextModel[sentence]"
   ]
  },
  {
   "cell_type": "markdown",
   "metadata": {},
   "source": [
    "### Vectorized"
   ]
  },
  {
   "cell_type": "code",
   "execution_count": 10,
   "metadata": {
    "ExecuteTime": {
     "end_time": "2020-12-13T10:59:10.555716Z",
     "start_time": "2020-12-13T10:59:10.544925Z"
    }
   },
   "outputs": [],
   "source": [
    "def get_vectorized_sentence(sentence):\n",
    "    sentence_clean = p.clean(sentence)\n",
    "    sentence_vector = []\n",
    "    for word in word_tokenize(sentence_clean):\n",
    "        sentence_vector.append(get_fast_text_vector(word))\n",
    "    return np.mean(sentence_vector, axis=0)"
   ]
  },
  {
   "cell_type": "code",
   "execution_count": null,
   "metadata": {
    "ExecuteTime": {
     "end_time": "2020-12-13T10:33:40.371674Z",
     "start_time": "2020-12-13T10:33:17.015947Z"
    }
   },
   "outputs": [],
   "source": [
    "df['vectorized_sentence'] = df['text'].apply(get_vectorized_sentence)"
   ]
  },
  {
   "cell_type": "markdown",
   "metadata": {},
   "source": [
    "### Distance"
   ]
  },
  {
   "cell_type": "code",
   "execution_count": 9,
   "metadata": {
    "ExecuteTime": {
     "end_time": "2020-12-13T10:59:10.541201Z",
     "start_time": "2020-12-13T10:59:10.534095Z"
    }
   },
   "outputs": [],
   "source": [
    "from sklearn.metrics.pairwise import euclidean_distances"
   ]
  },
  {
   "cell_type": "code",
   "execution_count": 11,
   "metadata": {
    "ExecuteTime": {
     "end_time": "2020-12-13T10:59:10.569674Z",
     "start_time": "2020-12-13T10:59:10.559848Z"
    }
   },
   "outputs": [],
   "source": [
    "def least_distance(predicted, context_sentence_vector):\n",
    "    '''least_distance_text = \"\"\n",
    "    least_distance = 100'''\n",
    "    \n",
    "    total_distance = []\n",
    "    for index, rows in context_sentence_vector.iterrows():\n",
    "        current_distance = euclidean_distances([predicted], [rows['vectorized_sentence']])\n",
    "        total_distance.append({\n",
    "            'id': rows['id'],\n",
    "            'text': rows['text'],\n",
    "            'score': current_distance\n",
    "        })\n",
    "        '''if current_distance<least_distance:\n",
    "            least_distance_text = rows[['id', 'text']]\n",
    "            least_distance = current_distance'''\n",
    "    total_distance.sort(key=lambda x: x.get('score'))\n",
    "    return total_distance[:20]\n",
    "    #return total_distance.sort(key=get_score)"
   ]
  },
  {
   "cell_type": "code",
   "execution_count": null,
   "metadata": {
    "ExecuteTime": {
     "end_time": "2020-12-13T10:35:34.810024Z",
     "start_time": "2020-12-13T10:35:27.080856Z"
    },
    "scrolled": true
   },
   "outputs": [],
   "source": [
    "least_distance(get_vectorized_sentence(\"Here is my statement.pic.twitter.com/WAZiGoQqMQ\"), df)"
   ]
  },
  {
   "cell_type": "markdown",
   "metadata": {},
   "source": [
    "### Saved"
   ]
  },
  {
   "cell_type": "markdown",
   "metadata": {},
   "source": [
    "#### Dataframe"
   ]
  },
  {
   "cell_type": "code",
   "execution_count": 15,
   "metadata": {
    "ExecuteTime": {
     "end_time": "2020-12-13T11:00:03.494901Z",
     "start_time": "2020-12-13T11:00:03.367058Z"
    },
    "scrolled": false
   },
   "outputs": [],
   "source": [
    "df[['id', 'text']].to_csv('tweet_vectorized.csv', index=False)"
   ]
  },
  {
   "cell_type": "code",
   "execution_count": null,
   "metadata": {
    "ExecuteTime": {
     "end_time": "2020-12-13T10:44:16.173267Z",
     "start_time": "2020-12-13T10:44:16.167358Z"
    }
   },
   "outputs": [],
   "source": [
    "test = df['vectorized_sentence'].to_numpy()"
   ]
  },
  {
   "cell_type": "markdown",
   "metadata": {},
   "source": [
    "#### Numpy 2D array"
   ]
  },
  {
   "cell_type": "code",
   "execution_count": null,
   "metadata": {
    "ExecuteTime": {
     "end_time": "2020-12-13T10:53:28.156642Z",
     "start_time": "2020-12-13T10:53:27.916572Z"
    }
   },
   "outputs": [],
   "source": [
    "np.save('vectorized_sentence.npy', test)"
   ]
  },
  {
   "cell_type": "code",
   "execution_count": 12,
   "metadata": {
    "ExecuteTime": {
     "end_time": "2020-12-13T10:59:10.672657Z",
     "start_time": "2020-12-13T10:59:10.573117Z"
    }
   },
   "outputs": [],
   "source": [
    "test2 = np.load('vectorized_sentence.npy', allow_pickle=True)"
   ]
  },
  {
   "cell_type": "code",
   "execution_count": null,
   "metadata": {},
   "outputs": [],
   "source": []
  },
  {
   "cell_type": "code",
   "execution_count": null,
   "metadata": {},
   "outputs": [],
   "source": []
  },
  {
   "cell_type": "markdown",
   "metadata": {},
   "source": [
    "#### Save Fast text"
   ]
  },
  {
   "cell_type": "code",
   "execution_count": 18,
   "metadata": {
    "ExecuteTime": {
     "end_time": "2020-12-13T12:01:35.413303Z",
     "start_time": "2020-12-13T12:01:35.394021Z"
    }
   },
   "outputs": [],
   "source": [
    "def compressed_pickle(title, data):\n",
    "    with bz2.BZ2File(title + '.pbz2', 'w') as f: \n",
    "        pickle.dump(data, f)"
   ]
  },
  {
   "cell_type": "code",
   "execution_count": 22,
   "metadata": {
    "ExecuteTime": {
     "end_time": "2020-12-13T12:02:54.176930Z",
     "start_time": "2020-12-13T12:02:54.172254Z"
    }
   },
   "outputs": [],
   "source": [
    "import bz2\n",
    "import pickle"
   ]
  },
  {
   "cell_type": "code",
   "execution_count": 23,
   "metadata": {
    "ExecuteTime": {
     "end_time": "2020-12-13T12:16:27.695921Z",
     "start_time": "2020-12-13T12:02:54.713021Z"
    }
   },
   "outputs": [],
   "source": [
    "compressed_pickle('test', fastTextModel)"
   ]
  },
  {
   "cell_type": "markdown",
   "metadata": {},
   "source": [
    "#### Load Fast Text"
   ]
  },
  {
   "cell_type": "code",
   "execution_count": null,
   "metadata": {},
   "outputs": [],
   "source": [
    "def decompress_pickle(file):\n",
    "    data = bz2.BZ2File(file, 'rb')\n",
    "    data = pickle.load(data)\n",
    "    return data"
   ]
  },
  {
   "cell_type": "code",
   "execution_count": null,
   "metadata": {},
   "outputs": [],
   "source": [
    "data = decompress_pickle('test.pbz2') "
   ]
  }
 ],
 "metadata": {
  "kernelspec": {
   "display_name": "Python 3",
   "language": "python",
   "name": "python3"
  },
  "language_info": {
   "codemirror_mode": {
    "name": "ipython",
    "version": 3
   },
   "file_extension": ".py",
   "mimetype": "text/x-python",
   "name": "python",
   "nbconvert_exporter": "python",
   "pygments_lexer": "ipython3",
   "version": "3.7.9"
  }
 },
 "nbformat": 4,
 "nbformat_minor": 4
}
